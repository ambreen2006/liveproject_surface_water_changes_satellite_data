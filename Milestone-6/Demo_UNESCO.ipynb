{
 "cells": [
  {
   "cell_type": "markdown",
   "metadata": {},
   "source": [
    "# Water Region Segmentation"
   ]
  },
  {
   "cell_type": "markdown",
   "metadata": {},
   "source": [
    "This report aims to provide an automation solution to the problem of identifying water regions in satellite images.\n",
    "\n",
    "Satellite images from programs such as Sentinel-2 can provide time series images of specific resolutions which can then be used to analyze changes in the area of water region such as lakes over time.\n",
    "\n",
    "The class `WaterRegion` is provided and examples are shown here that makes use of deep learning network trainined over satellite images to segment the region of interest.\n",
    "\n",
    "Please note that throughout this document, pre-requisite for this facility is marked with the annotation: [*]"
   ]
  },
  {
   "cell_type": "markdown",
   "metadata": {},
   "source": [
    "## WaterRegion"
   ]
  },
  {
   "cell_type": "markdown",
   "metadata": {},
   "source": [
    "The main service provided by the `WaterRegion` class is to load the trained deep neural network and makes predictions along with some utility methods to make predictions better and measure the quality of the prediction."
   ]
  },
  {
   "cell_type": "markdown",
   "metadata": {},
   "source": [
    "### Loading Satellite Images"
   ]
  },
  {
   "cell_type": "markdown",
   "metadata": {},
   "source": [
    "The interface or the `WaterRegion` class expects the images to be in the form of numpy array [*]. There are several facilities available outside of this module, however, method `convertFromJP2` would return a numpy array from a JP2 file. The example below shows satellite image of Lake Geneva, 2019 on the left and 2020 on the right."
   ]
  },
  {
   "cell_type": "markdown",
   "metadata": {},
   "source": [
    "```\n",
    "input_image_1 = water_region.convertFromJP2('DemoData/T31TGM_20190629T103031_TCI_10m.jp2')\n",
    "\n",
    "input_image_2 = water_region.convertFromJP2('DemoData/Geneva_T31TGM_20200623T103031_TCI_10m.jp2')\n",
    "\n",
    "```\n",
    "\n",
    "![Lake Geneva](Resources/LakeGeneva.png)"
   ]
  },
  {
   "cell_type": "markdown",
   "metadata": {},
   "source": [
    "The images also needs to be of size 256 x 256 [*]. The conversion is left outside of the module to give the user, the flexibility to control and maintain spatial resolution."
   ]
  },
  {
   "cell_type": "markdown",
   "metadata": {},
   "source": [
    "### Water Region Segmentation"
   ]
  },
  {
   "cell_type": "markdown",
   "metadata": {},
   "source": [
    "The ouptut or the prediction of the network is an image mask localizing the water region within the input image. The output of the method `identifyRegion` for the above two images are as follows:\n",
    "\n",
    "```\n",
    "preds = water_region.identifyRegion(np.array([input_image_1, input_image_2]))\n",
    "```"
   ]
  },
  {
   "cell_type": "markdown",
   "metadata": {},
   "source": [
    "![Lake Geneva Predictions Without Change](Resources/LakeGeneva_pred_unfiltered.png)"
   ]
  },
  {
   "cell_type": "markdown",
   "metadata": {},
   "source": [
    "These masks do have some noise from the snow and part of another lake from the 2019 image is segmented but not in 2020. I've created some simple utility method that we can try on these images."
   ]
  },
  {
   "cell_type": "markdown",
   "metadata": {},
   "source": [
    "Another example is from Copais lake. The image on the left is from 2016 and the one on the right is from 2019."
   ]
  },
  {
   "cell_type": "markdown",
   "metadata": {},
   "source": [
    "![Copais Lake](Resources/CopaisLake.png)"
   ]
  },
  {
   "cell_type": "markdown",
   "metadata": {},
   "source": [
    "The corresponding masks are as follows:"
   ]
  },
  {
   "cell_type": "markdown",
   "metadata": {},
   "source": [
    "![Copais Mask Predictions](Resources/CopaisLake_pred__unfiltered.png)"
   ]
  },
  {
   "cell_type": "markdown",
   "metadata": {},
   "source": [
    "There is a bit more noise on the 2019 image and you may also notice that the lakes in the original satellite images from the two years do look a little different."
   ]
  },
  {
   "cell_type": "markdown",
   "metadata": {},
   "source": [
    "### Comparing Predicted Masks"
   ]
  },
  {
   "cell_type": "markdown",
   "metadata": {},
   "source": [
    "#### Intersection Over Union"
   ]
  },
  {
   "cell_type": "markdown",
   "metadata": {},
   "source": [
    "We can measure how much the masks are similar to each other using a concept called `Intersection over Union`. The `WaterRegion` class provides a method called `iou` that calculates the intersection area of the two image masks and divide it with the union of the two masks."
   ]
  },
  {
   "cell_type": "markdown",
   "metadata": {},
   "source": [
    "Let's say we have these two images. First one is red, and the second one blue."
   ]
  },
  {
   "cell_type": "markdown",
   "metadata": {},
   "source": [
    "![Block Images](Resources/iou_seperate.png)"
   ]
  },
  {
   "cell_type": "markdown",
   "metadata": {},
   "source": [
    "You can see above that the middle area is common in both and both have some extra bits set, upper left for the first image and bottom right for the second image. The composite image for the above two are shown below:"
   ]
  },
  {
   "cell_type": "markdown",
   "metadata": {},
   "source": [
    "![Composite](Resources/iou_composite.png)"
   ]
  },
  {
   "cell_type": "markdown",
   "metadata": {},
   "source": [
    "An `IoU` would give us an indication of how similar the two masks are. For the above images the iou returned is: **`0.8`**"
   ]
  },
  {
   "cell_type": "markdown",
   "metadata": {},
   "source": [
    "A perfect overlap would result in an IoU of **`1`**."
   ]
  },
  {
   "cell_type": "markdown",
   "metadata": {},
   "source": [
    "#### Net Change"
   ]
  },
  {
   "cell_type": "markdown",
   "metadata": {},
   "source": [
    "Another method provided in the `WaterRegion` class is `netChange`. It `subtracts` the first image from the second image and obtains the net change between the predicted mask. However, a caveat of it being the net change is that if the other lake gained as much as what it had lost in some other localized area, the net change will neutralize that. The netchange for the two left images is **`2`** as you can see in the right most composite image, the two red pixels on the top left corner are missing in the second image."
   ]
  },
  {
   "cell_type": "markdown",
   "metadata": {},
   "source": [
    "![Block Images](Resources/composite_netchange.png)"
   ]
  },
  {
   "cell_type": "markdown",
   "metadata": {},
   "source": [
    "### Utility Methods"
   ]
  },
  {
   "cell_type": "markdown",
   "metadata": {},
   "source": [
    "#### Defrost"
   ]
  },
  {
   "cell_type": "markdown",
   "metadata": {},
   "source": [
    "I've created some simple utility method to help process either the image or the mask."
   ]
  },
  {
   "cell_type": "markdown",
   "metadata": {},
   "source": [
    "The `defrost` method can be used to remove snow from the Genova Lake images before making prediction on it."
   ]
  },
  {
   "cell_type": "markdown",
   "metadata": {},
   "source": [
    "Let's see the original image with composition side-by-side again."
   ]
  },
  {
   "cell_type": "markdown",
   "metadata": {},
   "source": [
    "![Lake Geneva Composite Mask](Resources/LakeGeneva_pred_unfiltered_composite.png)"
   ]
  },
  {
   "cell_type": "markdown",
   "metadata": {},
   "source": [
    "The `IoU` for this is **`0.719`**. This indicates it's close but clearly its lower because of the extra noise that we are seeing due to snow."
   ]
  },
  {
   "cell_type": "markdown",
   "metadata": {},
   "source": [
    "Running the `defrost` function makes the following changes to the original images."
   ]
  },
  {
   "cell_type": "markdown",
   "metadata": {},
   "source": [
    "![Lake Genova Defrosted](Resources/LakeGeneva_defrosted.png)"
   ]
  },
  {
   "cell_type": "markdown",
   "metadata": {},
   "source": [
    "The corresponding masks are below with the `IoU` value of **`0.9096`**."
   ]
  },
  {
   "cell_type": "markdown",
   "metadata": {},
   "source": [
    "![Lake Geneva Predicted Masks](Resources/LakeGeneva_masks_defrosted.png)"
   ]
  },
  {
   "cell_type": "markdown",
   "metadata": {},
   "source": [
    "#### Denoise"
   ]
  },
  {
   "cell_type": "markdown",
   "metadata": {},
   "source": [
    "The `denoise` method averages the area surrounding each pixels, calculated using strides, and clips it's result to 0 or 1 based on the threshold. Let's look at the Copais lakes again."
   ]
  },
  {
   "cell_type": "markdown",
   "metadata": {},
   "source": [
    "![Copais Lake](Resources/CopaisLake.png)"
   ]
  },
  {
   "cell_type": "markdown",
   "metadata": {},
   "source": [
    "The original masks are as follows with **`IoU = 0.64`** and **`net change = -4527`**. "
   ]
  },
  {
   "cell_type": "markdown",
   "metadata": {},
   "source": [
    "![Original Masks](Resources/CopaisLake_pred_comosite_unfiltered.png)"
   ]
  },
  {
   "cell_type": "markdown",
   "metadata": {},
   "source": [
    "After running denoise, following masks are produced with **`IoU = 0.6933`** and **`net change = -2972`**."
   ]
  },
  {
   "cell_type": "markdown",
   "metadata": {},
   "source": [
    "![Copais Lake Masks After Denoising](Resources/CopaisLake_pred_comosite_denoised.png)"
   ]
  },
  {
   "cell_type": "markdown",
   "metadata": {},
   "source": [
    "You can see in the cleaned up mask that the water identified by another lake seems to have increased a little and the 2016 image of the Copais lake shows perhaps a dried up region at the tail of the lake which shows water more clearly in the 2019 image."
   ]
  },
  {
   "cell_type": "markdown",
   "metadata": {},
   "source": [
    "# Benchmark"
   ]
  },
  {
   "cell_type": "markdown",
   "metadata": {},
   "source": [
    "Following results were produced on `Intel(R) Core(TM) i7-4940MX CPU @ 3.10GHz`. It took `6.88` seconds to predict 100 masks, `84.35` seconds for 1000 masks, and `753.79` to predict 10,000 masks."
   ]
  },
  {
   "cell_type": "markdown",
   "metadata": {},
   "source": [
    "![timeit results](Resources/timeit_graph.png)"
   ]
  },
  {
   "cell_type": "markdown",
   "metadata": {},
   "source": [
    "# Conclusion"
   ]
  },
  {
   "cell_type": "markdown",
   "metadata": {},
   "source": [
    "Automation pipeline can be created that includes downloading satellite images periodically from programs such as Copernicus, the images can then be resized as required by the neural network to make predictions. A time series comparison of the lakes with lower IoU and higher net change values could predicate a significant change. \n",
    "\n",
    "Because the masks produced may have some noise, a threshold should be used to identify if indeed a significant change has occurred."
   ]
  }
 ],
 "metadata": {
  "kernelspec": {
   "display_name": "Python 3",
   "language": "python",
   "name": "python3"
  },
  "language_info": {
   "codemirror_mode": {
    "name": "ipython",
    "version": 3
   },
   "file_extension": ".py",
   "mimetype": "text/x-python",
   "name": "python",
   "nbconvert_exporter": "python",
   "pygments_lexer": "ipython3",
   "version": "3.7.7"
  }
 },
 "nbformat": 4,
 "nbformat_minor": 4
}
